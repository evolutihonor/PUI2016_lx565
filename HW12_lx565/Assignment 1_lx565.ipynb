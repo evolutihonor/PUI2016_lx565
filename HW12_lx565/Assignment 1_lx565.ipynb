{
 "cells": [
  {
   "cell_type": "markdown",
   "metadata": {},
   "source": [
    "# Homework 12 on SQL and Semi-Variogram"
   ]
  },
  {
   "cell_type": "markdown",
   "metadata": {
    "collapsed": true
   },
   "source": [
    "### Student: Le Xu\n",
    "### ID: lx565"
   ]
  },
  {
   "cell_type": "code",
   "execution_count": 447,
   "metadata": {
    "collapsed": false
   },
   "outputs": [],
   "source": [
    "import ast\n",
    "from scipy.spatial.distance import pdist, squareform\n",
    "from geostatsmodels import utilities, kriging, variograms, model, geoplot\n",
    "import urllib2\n",
    "import urllib\n",
    "from cStringIO import StringIO\n",
    "import json\n",
    "import geopandas as gpd\n",
    "import pandas as pd\n",
    "import numpy as np\n",
    "import matplotlib.pyplot as pl\n",
    "import matplotlib.colors as mcolors\n",
    "import scipy.stats as stats\n",
    "from geopandas import GeoDataFrame\n",
    "\n",
    "%matplotlib inline\n",
    "SQL_SOURCE = 'https://fb55.carto.com/api/v2/sql'\n",
    "\n"
   ]
  },
  {
   "cell_type": "code",
   "execution_count": 448,
   "metadata": {
    "collapsed": true
   },
   "outputs": [],
   "source": [
    "def queryCartoDB(query, format='CSV', source=SQL_SOURCE):\n",
    "    \"\"\" queries a url with an sql compatible search\n",
    "    Arguments:\n",
    "    query : the sql query string\n",
    "    format : the expected format\n",
    "    source \" the url of the API\n",
    "    \"\"\"\n",
    "    data = urllib.urlencode({'format': format, 'q': query})\n",
    "    try:\n",
    "        response = urllib2.urlopen(source, data)\n",
    "    except urllib2.HTTPError, e:\n",
    "        raise ValueError('\\n'.join(ast.literal_eval(e.readline())['error']))\n",
    "    except Exception:\n",
    "        raise\n",
    "    return StringIO(response.read())"
   ]
  },
  {
   "cell_type": "code",
   "execution_count": 449,
   "metadata": {
    "collapsed": false
   },
   "outputs": [
    {
     "data": {
      "text/html": [
       "<div>\n",
       "<table border=\"1\" class=\"dataframe\">\n",
       "  <thead>\n",
       "    <tr style=\"text-align: right;\">\n",
       "      <th></th>\n",
       "      <th>count</th>\n",
       "      <th>zipcodes</th>\n",
       "    </tr>\n",
       "  </thead>\n",
       "  <tbody>\n",
       "    <tr>\n",
       "      <th>0</th>\n",
       "      <td>1699</td>\n",
       "      <td>10461</td>\n",
       "    </tr>\n",
       "    <tr>\n",
       "      <th>1</th>\n",
       "      <td>405</td>\n",
       "      <td>11373</td>\n",
       "    </tr>\n",
       "    <tr>\n",
       "      <th>2</th>\n",
       "      <td>1698</td>\n",
       "      <td>10451</td>\n",
       "    </tr>\n",
       "    <tr>\n",
       "      <th>3</th>\n",
       "      <td>220</td>\n",
       "      <td>11691</td>\n",
       "    </tr>\n",
       "    <tr>\n",
       "      <th>4</th>\n",
       "      <td>246</td>\n",
       "      <td>11375</td>\n",
       "    </tr>\n",
       "    <tr>\n",
       "      <th>5</th>\n",
       "      <td>494</td>\n",
       "      <td>10466</td>\n",
       "    </tr>\n",
       "    <tr>\n",
       "      <th>6</th>\n",
       "      <td>713</td>\n",
       "      <td>11212</td>\n",
       "    </tr>\n",
       "    <tr>\n",
       "      <th>7</th>\n",
       "      <td>167</td>\n",
       "      <td>11229</td>\n",
       "    </tr>\n",
       "    <tr>\n",
       "      <th>8</th>\n",
       "      <td>521</td>\n",
       "      <td>11215</td>\n",
       "    </tr>\n",
       "    <tr>\n",
       "      <th>9</th>\n",
       "      <td>386</td>\n",
       "      <td>11220</td>\n",
       "    </tr>\n",
       "    <tr>\n",
       "      <th>10</th>\n",
       "      <td>641</td>\n",
       "      <td>11355</td>\n",
       "    </tr>\n",
       "    <tr>\n",
       "      <th>11</th>\n",
       "      <td>376</td>\n",
       "      <td>11213</td>\n",
       "    </tr>\n",
       "    <tr>\n",
       "      <th>12</th>\n",
       "      <td>567</td>\n",
       "      <td>11418</td>\n",
       "    </tr>\n",
       "    <tr>\n",
       "      <th>13</th>\n",
       "      <td>411</td>\n",
       "      <td>10310</td>\n",
       "    </tr>\n",
       "    <tr>\n",
       "      <th>14</th>\n",
       "      <td>1829</td>\n",
       "      <td>11203</td>\n",
       "    </tr>\n",
       "    <tr>\n",
       "      <th>15</th>\n",
       "      <td>281</td>\n",
       "      <td>11102</td>\n",
       "    </tr>\n",
       "    <tr>\n",
       "      <th>16</th>\n",
       "      <td>222</td>\n",
       "      <td>11234</td>\n",
       "    </tr>\n",
       "    <tr>\n",
       "      <th>17</th>\n",
       "      <td>1156</td>\n",
       "      <td>11237</td>\n",
       "    </tr>\n",
       "    <tr>\n",
       "      <th>18</th>\n",
       "      <td>421</td>\n",
       "      <td>11219</td>\n",
       "    </tr>\n",
       "    <tr>\n",
       "      <th>19</th>\n",
       "      <td>822</td>\n",
       "      <td>10457</td>\n",
       "    </tr>\n",
       "    <tr>\n",
       "      <th>20</th>\n",
       "      <td>320</td>\n",
       "      <td>11235</td>\n",
       "    </tr>\n",
       "    <tr>\n",
       "      <th>21</th>\n",
       "      <td>466</td>\n",
       "      <td>11206</td>\n",
       "    </tr>\n",
       "    <tr>\n",
       "      <th>22</th>\n",
       "      <td>1072</td>\n",
       "      <td>10456</td>\n",
       "    </tr>\n",
       "    <tr>\n",
       "      <th>23</th>\n",
       "      <td>926</td>\n",
       "      <td>11040</td>\n",
       "    </tr>\n",
       "    <tr>\n",
       "      <th>24</th>\n",
       "      <td>940</td>\n",
       "      <td>11201</td>\n",
       "    </tr>\n",
       "    <tr>\n",
       "      <th>25</th>\n",
       "      <td>2164</td>\n",
       "      <td>10467</td>\n",
       "    </tr>\n",
       "    <tr>\n",
       "      <th>26</th>\n",
       "      <td>293</td>\n",
       "      <td>11432</td>\n",
       "    </tr>\n",
       "    <tr>\n",
       "      <th>27</th>\n",
       "      <td>447</td>\n",
       "      <td>10305</td>\n",
       "    </tr>\n",
       "    <tr>\n",
       "      <th>28</th>\n",
       "      <td>145</td>\n",
       "      <td>10309</td>\n",
       "    </tr>\n",
       "  </tbody>\n",
       "</table>\n",
       "</div>"
      ],
      "text/plain": [
       "    count  zipcodes\n",
       "0    1699     10461\n",
       "1     405     11373\n",
       "2    1698     10451\n",
       "3     220     11691\n",
       "4     246     11375\n",
       "5     494     10466\n",
       "6     713     11212\n",
       "7     167     11229\n",
       "8     521     11215\n",
       "9     386     11220\n",
       "10    641     11355\n",
       "11    376     11213\n",
       "12    567     11418\n",
       "13    411     10310\n",
       "14   1829     11203\n",
       "15    281     11102\n",
       "16    222     11234\n",
       "17   1156     11237\n",
       "18    421     11219\n",
       "19    822     10457\n",
       "20    320     11235\n",
       "21    466     11206\n",
       "22   1072     10456\n",
       "23    926     11040\n",
       "24    940     11201\n",
       "25   2164     10467\n",
       "26    293     11432\n",
       "27    447     10305\n",
       "28    145     10309"
      ]
     },
     "execution_count": 449,
     "metadata": {},
     "output_type": "execute_result"
    }
   ],
   "source": [
    "facilityQuery = '''\n",
    "\n",
    "SELECT nycasthmasdismissals.zipcodes, COUNT(nycasthmasdismissals.cartodb_id)\n",
    "FROM NYCAsthmasDismissals \n",
    "GROUP BY nycasthmasdismissals.zipcodes\n",
    "\n",
    "\n",
    "'''\n",
    "facilityStream = queryCartoDB(facilityQuery, format='JSON')\n",
    "facilityData   = json.loads(facilityStream.read())\n",
    "facilityData\n",
    "facilities     = pd.DataFrame.from_dict(facilityData['rows'])\n",
    "facilities"
   ]
  },
  {
   "cell_type": "code",
   "execution_count": 450,
   "metadata": {
    "collapsed": true
   },
   "outputs": [],
   "source": [
    "nyc_shape = GeoDataFrame.from_file(\"ZIP_CODE_040114.shp\")"
   ]
  },
  {
   "cell_type": "code",
   "execution_count": 451,
   "metadata": {
    "collapsed": false
   },
   "outputs": [],
   "source": [
    "nyc_shape[\"centers\"] = nyc_shape.geometry.centroid"
   ]
  },
  {
   "cell_type": "code",
   "execution_count": 452,
   "metadata": {
    "collapsed": false
   },
   "outputs": [],
   "source": [
    "nyc_shape = nyc_shape.rename(columns={\"ZIPCODE\": \"zipcodes\"})"
   ]
  },
  {
   "cell_type": "code",
   "execution_count": 453,
   "metadata": {
    "collapsed": false
   },
   "outputs": [
    {
     "data": {
      "text/html": [
       "<div>\n",
       "<table border=\"1\" class=\"dataframe\">\n",
       "  <thead>\n",
       "    <tr style=\"text-align: right;\">\n",
       "      <th></th>\n",
       "      <th>AREA</th>\n",
       "      <th>BLDGZIP</th>\n",
       "      <th>COUNTY</th>\n",
       "      <th>CTY_FIPS</th>\n",
       "      <th>POPULATION</th>\n",
       "      <th>PO_NAME</th>\n",
       "      <th>SHAPE_AREA</th>\n",
       "      <th>SHAPE_LEN</th>\n",
       "      <th>STATE</th>\n",
       "      <th>ST_FIPS</th>\n",
       "      <th>URL</th>\n",
       "      <th>zipcodes</th>\n",
       "      <th>geometry</th>\n",
       "      <th>centers</th>\n",
       "    </tr>\n",
       "  </thead>\n",
       "  <tbody>\n",
       "    <tr>\n",
       "      <th>0</th>\n",
       "      <td>2.269930e+07</td>\n",
       "      <td>0</td>\n",
       "      <td>Queens</td>\n",
       "      <td>081</td>\n",
       "      <td>18681.0</td>\n",
       "      <td>Jamaica</td>\n",
       "      <td>0.0</td>\n",
       "      <td>0.0</td>\n",
       "      <td>NY</td>\n",
       "      <td>36</td>\n",
       "      <td>http://www.usps.com/</td>\n",
       "      <td>11436</td>\n",
       "      <td>POLYGON ((1038098.251871482 188138.3800067157,...</td>\n",
       "      <td>POINT (1040696.262135346 185580.2219140405)</td>\n",
       "    </tr>\n",
       "    <tr>\n",
       "      <th>1</th>\n",
       "      <td>2.963100e+07</td>\n",
       "      <td>0</td>\n",
       "      <td>Kings</td>\n",
       "      <td>047</td>\n",
       "      <td>62426.0</td>\n",
       "      <td>Brooklyn</td>\n",
       "      <td>0.0</td>\n",
       "      <td>0.0</td>\n",
       "      <td>NY</td>\n",
       "      <td>36</td>\n",
       "      <td>http://www.usps.com/</td>\n",
       "      <td>11213</td>\n",
       "      <td>POLYGON ((1001613.712964058 186926.4395172149,...</td>\n",
       "      <td>POINT (1001912.871996466 183803.1131420481)</td>\n",
       "    </tr>\n",
       "    <tr>\n",
       "      <th>2</th>\n",
       "      <td>4.197210e+07</td>\n",
       "      <td>0</td>\n",
       "      <td>Kings</td>\n",
       "      <td>047</td>\n",
       "      <td>83866.0</td>\n",
       "      <td>Brooklyn</td>\n",
       "      <td>0.0</td>\n",
       "      <td>0.0</td>\n",
       "      <td>NY</td>\n",
       "      <td>36</td>\n",
       "      <td>http://www.usps.com/</td>\n",
       "      <td>11212</td>\n",
       "      <td>POLYGON ((1011174.275535807 183696.33770971, 1...</td>\n",
       "      <td>POINT (1008365.375095716 180768.9448568909)</td>\n",
       "    </tr>\n",
       "    <tr>\n",
       "      <th>3</th>\n",
       "      <td>2.369863e+07</td>\n",
       "      <td>0</td>\n",
       "      <td>Kings</td>\n",
       "      <td>047</td>\n",
       "      <td>56527.0</td>\n",
       "      <td>Brooklyn</td>\n",
       "      <td>0.0</td>\n",
       "      <td>0.0</td>\n",
       "      <td>NY</td>\n",
       "      <td>36</td>\n",
       "      <td>http://www.usps.com/</td>\n",
       "      <td>11225</td>\n",
       "      <td>POLYGON ((995908.3654508889 183617.6128015518,...</td>\n",
       "      <td>POINT (997023.1926918941 180870.3533200975)</td>\n",
       "    </tr>\n",
       "    <tr>\n",
       "      <th>4</th>\n",
       "      <td>3.686880e+07</td>\n",
       "      <td>0</td>\n",
       "      <td>Kings</td>\n",
       "      <td>047</td>\n",
       "      <td>72280.0</td>\n",
       "      <td>Brooklyn</td>\n",
       "      <td>0.0</td>\n",
       "      <td>0.0</td>\n",
       "      <td>NY</td>\n",
       "      <td>36</td>\n",
       "      <td>http://www.usps.com/</td>\n",
       "      <td>11218</td>\n",
       "      <td>POLYGON ((991997.1134308875 176307.4958601296,...</td>\n",
       "      <td>POINT (990785.2911208535 173656.048379133)</td>\n",
       "    </tr>\n",
       "  </tbody>\n",
       "</table>\n",
       "</div>"
      ],
      "text/plain": [
       "           AREA BLDGZIP  COUNTY CTY_FIPS  POPULATION   PO_NAME  SHAPE_AREA  \\\n",
       "0  2.269930e+07       0  Queens      081     18681.0   Jamaica         0.0   \n",
       "1  2.963100e+07       0   Kings      047     62426.0  Brooklyn         0.0   \n",
       "2  4.197210e+07       0   Kings      047     83866.0  Brooklyn         0.0   \n",
       "3  2.369863e+07       0   Kings      047     56527.0  Brooklyn         0.0   \n",
       "4  3.686880e+07       0   Kings      047     72280.0  Brooklyn         0.0   \n",
       "\n",
       "   SHAPE_LEN STATE ST_FIPS                   URL zipcodes  \\\n",
       "0        0.0    NY      36  http://www.usps.com/    11436   \n",
       "1        0.0    NY      36  http://www.usps.com/    11213   \n",
       "2        0.0    NY      36  http://www.usps.com/    11212   \n",
       "3        0.0    NY      36  http://www.usps.com/    11225   \n",
       "4        0.0    NY      36  http://www.usps.com/    11218   \n",
       "\n",
       "                                            geometry  \\\n",
       "0  POLYGON ((1038098.251871482 188138.3800067157,...   \n",
       "1  POLYGON ((1001613.712964058 186926.4395172149,...   \n",
       "2  POLYGON ((1011174.275535807 183696.33770971, 1...   \n",
       "3  POLYGON ((995908.3654508889 183617.6128015518,...   \n",
       "4  POLYGON ((991997.1134308875 176307.4958601296,...   \n",
       "\n",
       "                                       centers  \n",
       "0  POINT (1040696.262135346 185580.2219140405)  \n",
       "1  POINT (1001912.871996466 183803.1131420481)  \n",
       "2  POINT (1008365.375095716 180768.9448568909)  \n",
       "3  POINT (997023.1926918941 180870.3533200975)  \n",
       "4   POINT (990785.2911208535 173656.048379133)  "
      ]
     },
     "execution_count": 453,
     "metadata": {},
     "output_type": "execute_result"
    }
   ],
   "source": [
    "nyc_shape.head()"
   ]
  },
  {
   "cell_type": "code",
   "execution_count": 454,
   "metadata": {
    "collapsed": false
   },
   "outputs": [],
   "source": [
    "nyc_shape.zipcodes = nyc_shape.zipcodes.astype(int)"
   ]
  },
  {
   "cell_type": "code",
   "execution_count": 455,
   "metadata": {
    "collapsed": false
   },
   "outputs": [],
   "source": [
    "merged = facilities.merge(nyc_shape[[\"zipcodes\", \"centers\"]], on = \"zipcodes\", how = \"inner\")"
   ]
  },
  {
   "cell_type": "code",
   "execution_count": 456,
   "metadata": {
    "collapsed": false
   },
   "outputs": [
    {
     "data": {
      "text/html": [
       "<div>\n",
       "<table border=\"1\" class=\"dataframe\">\n",
       "  <thead>\n",
       "    <tr style=\"text-align: right;\">\n",
       "      <th></th>\n",
       "      <th>count</th>\n",
       "      <th>zipcodes</th>\n",
       "      <th>centers</th>\n",
       "    </tr>\n",
       "  </thead>\n",
       "  <tbody>\n",
       "    <tr>\n",
       "      <th>0</th>\n",
       "      <td>1699</td>\n",
       "      <td>10461</td>\n",
       "      <td>POINT (1028292.72437689 247902.4282787614)</td>\n",
       "    </tr>\n",
       "    <tr>\n",
       "      <th>1</th>\n",
       "      <td>405</td>\n",
       "      <td>11373</td>\n",
       "      <td>POINT (1017941.215480481 208485.1046661779)</td>\n",
       "    </tr>\n",
       "    <tr>\n",
       "      <th>2</th>\n",
       "      <td>1698</td>\n",
       "      <td>10451</td>\n",
       "      <td>POINT (1005358.961284301 238316.0675161843)</td>\n",
       "    </tr>\n",
       "    <tr>\n",
       "      <th>3</th>\n",
       "      <td>220</td>\n",
       "      <td>11691</td>\n",
       "      <td>POINT (1050360.772370908 158235.4624321515)</td>\n",
       "    </tr>\n",
       "    <tr>\n",
       "      <th>4</th>\n",
       "      <td>246</td>\n",
       "      <td>11375</td>\n",
       "      <td>POINT (1026858.206454871 201880.2234817908)</td>\n",
       "    </tr>\n",
       "    <tr>\n",
       "      <th>5</th>\n",
       "      <td>494</td>\n",
       "      <td>10466</td>\n",
       "      <td>POINT (1026647.114925691 263909.2896452093)</td>\n",
       "    </tr>\n",
       "    <tr>\n",
       "      <th>6</th>\n",
       "      <td>713</td>\n",
       "      <td>11212</td>\n",
       "      <td>POINT (1008365.375095716 180768.9448568909)</td>\n",
       "    </tr>\n",
       "    <tr>\n",
       "      <th>7</th>\n",
       "      <td>167</td>\n",
       "      <td>11229</td>\n",
       "      <td>POINT (999714.2819237487 158289.3193893406)</td>\n",
       "    </tr>\n",
       "    <tr>\n",
       "      <th>8</th>\n",
       "      <td>521</td>\n",
       "      <td>11215</td>\n",
       "      <td>POINT (989857.1615907477 181769.9626017534)</td>\n",
       "    </tr>\n",
       "    <tr>\n",
       "      <th>9</th>\n",
       "      <td>386</td>\n",
       "      <td>11220</td>\n",
       "      <td>POINT (979603.6885367428 172876.8181350912)</td>\n",
       "    </tr>\n",
       "    <tr>\n",
       "      <th>10</th>\n",
       "      <td>641</td>\n",
       "      <td>11355</td>\n",
       "      <td>POINT (1033751.963208415 213025.4454238106)</td>\n",
       "    </tr>\n",
       "    <tr>\n",
       "      <th>11</th>\n",
       "      <td>376</td>\n",
       "      <td>11213</td>\n",
       "      <td>POINT (1001912.871996466 183803.1131420481)</td>\n",
       "    </tr>\n",
       "    <tr>\n",
       "      <th>12</th>\n",
       "      <td>567</td>\n",
       "      <td>11418</td>\n",
       "      <td>POINT (1030763.131985185 193718.677337912)</td>\n",
       "    </tr>\n",
       "    <tr>\n",
       "      <th>13</th>\n",
       "      <td>411</td>\n",
       "      <td>10310</td>\n",
       "      <td>POINT (952154.3158469965 170046.5463028799)</td>\n",
       "    </tr>\n",
       "    <tr>\n",
       "      <th>14</th>\n",
       "      <td>1829</td>\n",
       "      <td>11203</td>\n",
       "      <td>POINT (1002486.394860329 175967.924925334)</td>\n",
       "    </tr>\n",
       "    <tr>\n",
       "      <th>15</th>\n",
       "      <td>281</td>\n",
       "      <td>11102</td>\n",
       "      <td>POINT (1004612.515718838 220393.7206859779)</td>\n",
       "    </tr>\n",
       "    <tr>\n",
       "      <th>16</th>\n",
       "      <td>222</td>\n",
       "      <td>11234</td>\n",
       "      <td>POINT (1009030.592825167 160369.8908560668)</td>\n",
       "    </tr>\n",
       "    <tr>\n",
       "      <th>17</th>\n",
       "      <td>1156</td>\n",
       "      <td>11237</td>\n",
       "      <td>POINT (1006204.49069248 195763.5339415926)</td>\n",
       "    </tr>\n",
       "    <tr>\n",
       "      <th>18</th>\n",
       "      <td>421</td>\n",
       "      <td>11219</td>\n",
       "      <td>POINT (985172.779324743 169813.4852984693)</td>\n",
       "    </tr>\n",
       "    <tr>\n",
       "      <th>19</th>\n",
       "      <td>822</td>\n",
       "      <td>10457</td>\n",
       "      <td>POINT (1012373.99669069 247427.2407033304)</td>\n",
       "    </tr>\n",
       "    <tr>\n",
       "      <th>20</th>\n",
       "      <td>320</td>\n",
       "      <td>11235</td>\n",
       "      <td>POINT (999281.733467283 152086.4975396681)</td>\n",
       "    </tr>\n",
       "    <tr>\n",
       "      <th>21</th>\n",
       "      <td>466</td>\n",
       "      <td>11206</td>\n",
       "      <td>POINT (1000214.752242321 195030.0417786305)</td>\n",
       "    </tr>\n",
       "    <tr>\n",
       "      <th>22</th>\n",
       "      <td>1072</td>\n",
       "      <td>10456</td>\n",
       "      <td>POINT (1009764.343531543 241746.6814908273)</td>\n",
       "    </tr>\n",
       "    <tr>\n",
       "      <th>23</th>\n",
       "      <td>926</td>\n",
       "      <td>11040</td>\n",
       "      <td>POINT (1066420.314161689 212186.3715271447)</td>\n",
       "    </tr>\n",
       "    <tr>\n",
       "      <th>24</th>\n",
       "      <td>940</td>\n",
       "      <td>11201</td>\n",
       "      <td>POINT (987194.5134666855 192431.9280277258)</td>\n",
       "    </tr>\n",
       "    <tr>\n",
       "      <th>25</th>\n",
       "      <td>2164</td>\n",
       "      <td>10467</td>\n",
       "      <td>POINT (1020059.119296007 259287.5178783316)</td>\n",
       "    </tr>\n",
       "    <tr>\n",
       "      <th>26</th>\n",
       "      <td>293</td>\n",
       "      <td>11432</td>\n",
       "      <td>POINT (1041615.426944193 200113.081425501)</td>\n",
       "    </tr>\n",
       "    <tr>\n",
       "      <th>27</th>\n",
       "      <td>447</td>\n",
       "      <td>10305</td>\n",
       "      <td>POINT (963294.3545815283 156090.5598662235)</td>\n",
       "    </tr>\n",
       "    <tr>\n",
       "      <th>28</th>\n",
       "      <td>145</td>\n",
       "      <td>10309</td>\n",
       "      <td>POINT (923582.2158208215 132956.1861638336)</td>\n",
       "    </tr>\n",
       "  </tbody>\n",
       "</table>\n",
       "</div>"
      ],
      "text/plain": [
       "    count  zipcodes                                      centers\n",
       "0    1699     10461   POINT (1028292.72437689 247902.4282787614)\n",
       "1     405     11373  POINT (1017941.215480481 208485.1046661779)\n",
       "2    1698     10451  POINT (1005358.961284301 238316.0675161843)\n",
       "3     220     11691  POINT (1050360.772370908 158235.4624321515)\n",
       "4     246     11375  POINT (1026858.206454871 201880.2234817908)\n",
       "5     494     10466  POINT (1026647.114925691 263909.2896452093)\n",
       "6     713     11212  POINT (1008365.375095716 180768.9448568909)\n",
       "7     167     11229  POINT (999714.2819237487 158289.3193893406)\n",
       "8     521     11215  POINT (989857.1615907477 181769.9626017534)\n",
       "9     386     11220  POINT (979603.6885367428 172876.8181350912)\n",
       "10    641     11355  POINT (1033751.963208415 213025.4454238106)\n",
       "11    376     11213  POINT (1001912.871996466 183803.1131420481)\n",
       "12    567     11418   POINT (1030763.131985185 193718.677337912)\n",
       "13    411     10310  POINT (952154.3158469965 170046.5463028799)\n",
       "14   1829     11203   POINT (1002486.394860329 175967.924925334)\n",
       "15    281     11102  POINT (1004612.515718838 220393.7206859779)\n",
       "16    222     11234  POINT (1009030.592825167 160369.8908560668)\n",
       "17   1156     11237   POINT (1006204.49069248 195763.5339415926)\n",
       "18    421     11219   POINT (985172.779324743 169813.4852984693)\n",
       "19    822     10457   POINT (1012373.99669069 247427.2407033304)\n",
       "20    320     11235   POINT (999281.733467283 152086.4975396681)\n",
       "21    466     11206  POINT (1000214.752242321 195030.0417786305)\n",
       "22   1072     10456  POINT (1009764.343531543 241746.6814908273)\n",
       "23    926     11040  POINT (1066420.314161689 212186.3715271447)\n",
       "24    940     11201  POINT (987194.5134666855 192431.9280277258)\n",
       "25   2164     10467  POINT (1020059.119296007 259287.5178783316)\n",
       "26    293     11432   POINT (1041615.426944193 200113.081425501)\n",
       "27    447     10305  POINT (963294.3545815283 156090.5598662235)\n",
       "28    145     10309  POINT (923582.2158208215 132956.1861638336)"
      ]
     },
     "execution_count": 456,
     "metadata": {},
     "output_type": "execute_result"
    }
   ],
   "source": [
    "merged"
   ]
  },
  {
   "cell_type": "markdown",
   "metadata": {},
   "source": [
    "---"
   ]
  },
  {
   "cell_type": "code",
   "execution_count": 457,
   "metadata": {
    "collapsed": false
   },
   "outputs": [],
   "source": [
    "nyc_shape = nyc_shape.to_crs(epsg=32118)   # change to meter for epsg\n",
    "nyc_shape[\"centers\"] = nyc_shape.geometry.centroid\n",
    "nyc_shape = nyc_shape.rename(columns={\"ZIPCODE\": \"zipcodes\"})\n",
    "nyc_shape.zipcodes = nyc_shape.zipcodes.astype(int)\n",
    "merged = facilities.merge(nyc_shape[[\"zipcodes\", \"centers\"]], on = \"zipcodes\", how = \"inner\")"
   ]
  },
  {
   "cell_type": "code",
   "execution_count": 458,
   "metadata": {
    "collapsed": false
   },
   "outputs": [
    {
     "data": {
      "text/html": [
       "<div>\n",
       "<table border=\"1\" class=\"dataframe\">\n",
       "  <thead>\n",
       "    <tr style=\"text-align: right;\">\n",
       "      <th></th>\n",
       "      <th>count</th>\n",
       "      <th>zipcodes</th>\n",
       "      <th>centers</th>\n",
       "    </tr>\n",
       "  </thead>\n",
       "  <tbody>\n",
       "    <tr>\n",
       "      <th>0</th>\n",
       "      <td>1699</td>\n",
       "      <td>10461</td>\n",
       "      <td>POINT (313424.2492385741 75560.81126467438)</td>\n",
       "    </tr>\n",
       "    <tr>\n",
       "      <th>1</th>\n",
       "      <td>405</td>\n",
       "      <td>11373</td>\n",
       "      <td>POINT (310269.1030166565 63546.38699871019)</td>\n",
       "    </tr>\n",
       "    <tr>\n",
       "      <th>2</th>\n",
       "      <td>1698</td>\n",
       "      <td>10451</td>\n",
       "      <td>POINT (306434.0242675035 72638.88266038381)</td>\n",
       "    </tr>\n",
       "    <tr>\n",
       "      <th>3</th>\n",
       "      <td>220</td>\n",
       "      <td>11691</td>\n",
       "      <td>POINT (320150.6037198587 48230.26541353501)</td>\n",
       "    </tr>\n",
       "    <tr>\n",
       "      <th>4</th>\n",
       "      <td>246</td>\n",
       "      <td>11375</td>\n",
       "      <td>POINT (312987.0073014589 61533.21518736531)</td>\n",
       "    </tr>\n",
       "    <tr>\n",
       "      <th>5</th>\n",
       "      <td>494</td>\n",
       "      <td>10466</td>\n",
       "      <td>POINT (312922.6664746841 80439.71236697005)</td>\n",
       "    </tr>\n",
       "    <tr>\n",
       "      <th>6</th>\n",
       "      <td>713</td>\n",
       "      <td>11212</td>\n",
       "      <td>POINT (307350.3810299358 55098.4845930345)</td>\n",
       "    </tr>\n",
       "    <tr>\n",
       "      <th>7</th>\n",
       "      <td>167</td>\n",
       "      <td>11229</td>\n",
       "      <td>POINT (304713.5225574032 48246.68104691816)</td>\n",
       "    </tr>\n",
       "    <tr>\n",
       "      <th>8</th>\n",
       "      <td>521</td>\n",
       "      <td>11215</td>\n",
       "      <td>POINT (301709.0662709916 55403.59541189024)</td>\n",
       "    </tr>\n",
       "    <tr>\n",
       "      <th>9</th>\n",
       "      <td>386</td>\n",
       "      <td>11220</td>\n",
       "      <td>POINT (298583.8014336014 52692.95955717975)</td>\n",
       "    </tr>\n",
       "    <tr>\n",
       "      <th>10</th>\n",
       "      <td>641</td>\n",
       "      <td>11355</td>\n",
       "      <td>POINT (315088.2285623811 64930.28562943391)</td>\n",
       "    </tr>\n",
       "    <tr>\n",
       "      <th>11</th>\n",
       "      <td>376</td>\n",
       "      <td>11213</td>\n",
       "      <td>POINT (305383.6541518304 56023.30093598334)</td>\n",
       "    </tr>\n",
       "    <tr>\n",
       "      <th>12</th>\n",
       "      <td>567</td>\n",
       "      <td>11418</td>\n",
       "      <td>POINT (314177.2309835456 59045.5709474224)</td>\n",
       "    </tr>\n",
       "    <tr>\n",
       "      <th>13</th>\n",
       "      <td>411</td>\n",
       "      <td>10310</td>\n",
       "      <td>POINT (290217.2159045963 51830.29097738466)</td>\n",
       "    </tr>\n",
       "    <tr>\n",
       "      <th>14</th>\n",
       "      <td>1829</td>\n",
       "      <td>11203</td>\n",
       "      <td>POINT (305558.4642703557 53635.13079118833)</td>\n",
       "    </tr>\n",
       "    <tr>\n",
       "      <th>15</th>\n",
       "      <td>281</td>\n",
       "      <td>11102</td>\n",
       "      <td>POINT (306206.5072041159 67176.14042105214)</td>\n",
       "    </tr>\n",
       "    <tr>\n",
       "      <th>16</th>\n",
       "      <td>222</td>\n",
       "      <td>11234</td>\n",
       "      <td>POINT (307553.1397993892 48880.84049829463)</td>\n",
       "    </tr>\n",
       "    <tr>\n",
       "      <th>17</th>\n",
       "      <td>1156</td>\n",
       "      <td>11237</td>\n",
       "      <td>POINT (306691.7421465525 59668.84448677113)</td>\n",
       "    </tr>\n",
       "    <tr>\n",
       "      <th>18</th>\n",
       "      <td>421</td>\n",
       "      <td>11219</td>\n",
       "      <td>POINT (300281.2637007088 51759.25384116642)</td>\n",
       "    </tr>\n",
       "    <tr>\n",
       "      <th>19</th>\n",
       "      <td>822</td>\n",
       "      <td>10457</td>\n",
       "      <td>POINT (308572.2113357449 75415.97380200803)</td>\n",
       "    </tr>\n",
       "    <tr>\n",
       "      <th>20</th>\n",
       "      <td>320</td>\n",
       "      <td>11235</td>\n",
       "      <td>POINT (304581.6815241906 46356.05716589004)</td>\n",
       "    </tr>\n",
       "    <tr>\n",
       "      <th>21</th>\n",
       "      <td>466</td>\n",
       "      <td>11206</td>\n",
       "      <td>POINT (304866.0662155908 59445.27562836343)</td>\n",
       "    </tr>\n",
       "    <tr>\n",
       "      <th>22</th>\n",
       "      <td>1072</td>\n",
       "      <td>10456</td>\n",
       "      <td>POINT (307776.7874619894 73684.53589116162)</td>\n",
       "    </tr>\n",
       "    <tr>\n",
       "      <th>23</th>\n",
       "      <td>926</td>\n",
       "      <td>11040</td>\n",
       "      <td>POINT (325045.5618476061 64674.53539422989)</td>\n",
       "    </tr>\n",
       "    <tr>\n",
       "      <th>24</th>\n",
       "      <td>940</td>\n",
       "      <td>11201</td>\n",
       "      <td>POINT (300897.4894996248 58653.36897327373)</td>\n",
       "    </tr>\n",
       "    <tr>\n",
       "      <th>25</th>\n",
       "      <td>2164</td>\n",
       "      <td>10467</td>\n",
       "      <td>POINT (310914.6413907055 79030.99351498779)</td>\n",
       "    </tr>\n",
       "    <tr>\n",
       "      <th>26</th>\n",
       "      <td>293</td>\n",
       "      <td>11432</td>\n",
       "      <td>POINT (317485.0171026235 60994.58921135628)</td>\n",
       "    </tr>\n",
       "    <tr>\n",
       "      <th>27</th>\n",
       "      <td>447</td>\n",
       "      <td>10305</td>\n",
       "      <td>POINT (293612.7065018623 47576.49780390545)</td>\n",
       "    </tr>\n",
       "    <tr>\n",
       "      <th>28</th>\n",
       "      <td>145</td>\n",
       "      <td>10309</td>\n",
       "      <td>POINT (281508.4223990325 40525.12659667432)</td>\n",
       "    </tr>\n",
       "  </tbody>\n",
       "</table>\n",
       "</div>"
      ],
      "text/plain": [
       "    count  zipcodes                                      centers\n",
       "0    1699     10461  POINT (313424.2492385741 75560.81126467438)\n",
       "1     405     11373  POINT (310269.1030166565 63546.38699871019)\n",
       "2    1698     10451  POINT (306434.0242675035 72638.88266038381)\n",
       "3     220     11691  POINT (320150.6037198587 48230.26541353501)\n",
       "4     246     11375  POINT (312987.0073014589 61533.21518736531)\n",
       "5     494     10466  POINT (312922.6664746841 80439.71236697005)\n",
       "6     713     11212   POINT (307350.3810299358 55098.4845930345)\n",
       "7     167     11229  POINT (304713.5225574032 48246.68104691816)\n",
       "8     521     11215  POINT (301709.0662709916 55403.59541189024)\n",
       "9     386     11220  POINT (298583.8014336014 52692.95955717975)\n",
       "10    641     11355  POINT (315088.2285623811 64930.28562943391)\n",
       "11    376     11213  POINT (305383.6541518304 56023.30093598334)\n",
       "12    567     11418   POINT (314177.2309835456 59045.5709474224)\n",
       "13    411     10310  POINT (290217.2159045963 51830.29097738466)\n",
       "14   1829     11203  POINT (305558.4642703557 53635.13079118833)\n",
       "15    281     11102  POINT (306206.5072041159 67176.14042105214)\n",
       "16    222     11234  POINT (307553.1397993892 48880.84049829463)\n",
       "17   1156     11237  POINT (306691.7421465525 59668.84448677113)\n",
       "18    421     11219  POINT (300281.2637007088 51759.25384116642)\n",
       "19    822     10457  POINT (308572.2113357449 75415.97380200803)\n",
       "20    320     11235  POINT (304581.6815241906 46356.05716589004)\n",
       "21    466     11206  POINT (304866.0662155908 59445.27562836343)\n",
       "22   1072     10456  POINT (307776.7874619894 73684.53589116162)\n",
       "23    926     11040  POINT (325045.5618476061 64674.53539422989)\n",
       "24    940     11201  POINT (300897.4894996248 58653.36897327373)\n",
       "25   2164     10467  POINT (310914.6413907055 79030.99351498779)\n",
       "26    293     11432  POINT (317485.0171026235 60994.58921135628)\n",
       "27    447     10305  POINT (293612.7065018623 47576.49780390545)\n",
       "28    145     10309  POINT (281508.4223990325 40525.12659667432)"
      ]
     },
     "execution_count": 458,
     "metadata": {},
     "output_type": "execute_result"
    }
   ],
   "source": [
    "merged_meter = merged\n",
    "merged_meter"
   ]
  },
  {
   "cell_type": "markdown",
   "metadata": {},
   "source": [
    "# Create a 3xN numpy array with x-location, y-location, number of dismissals"
   ]
  },
  {
   "cell_type": "code",
   "execution_count": 459,
   "metadata": {
    "collapsed": false
   },
   "outputs": [],
   "source": [
    "#merged.centers \n",
    "def getXY(pt):\n",
    "    return [pt.x, pt.y]\n",
    "centroidseries = merged_meter['centers']\n",
    "centroidlist = map(getXY, centroidseries)\n",
    "centroidlist = np.array(centroidlist)"
   ]
  },
  {
   "cell_type": "code",
   "execution_count": 460,
   "metadata": {
    "collapsed": false
   },
   "outputs": [],
   "source": [
    "krigdata = np.zeros((len(merged_meter),3))"
   ]
  },
  {
   "cell_type": "code",
   "execution_count": 461,
   "metadata": {
    "collapsed": false
   },
   "outputs": [],
   "source": [
    "krigdata[:,0] = centroidlist[:,0]\n",
    "krigdata[:,1] = centroidlist[:,1]\n",
    "krigdata[:,2] = merged_meter[\"count\"]"
   ]
  },
  {
   "cell_type": "code",
   "execution_count": 496,
   "metadata": {
    "collapsed": false
   },
   "outputs": [
    {
     "data": {
      "text/plain": [
       "<matplotlib.text.Text at 0x137ef5450>"
      ]
     },
     "execution_count": 496,
     "metadata": {},
     "output_type": "execute_result"
    },
    {
     "data": {
      "image/png": "[encoded data removed]",
      "text/plain": [
       "<matplotlib.figure.Figure at 0x137e2ddd0>"
      ]
     },
     "metadata": {},
     "output_type": "display_data"
    }
   ],
   "source": [
    "pl.figure(figsize=(10,10))\n",
    "pl.scatter(krigdata[:,0], krigdata[:,1], c=krigdata[:,2], s=100, cmap='bone')\n",
    "pl.xlabel(\"Easting (m)\", fontsize=20)\n",
    "pl.ylabel(\"Northing (m)\", fontsize=20)\n",
    "pl.title(\"Asthma dismissal location(m)\", fontsize=20)"
   ]
  },
  {
   "cell_type": "markdown",
   "metadata": {},
   "source": [
    "## Create Semi-Variogram"
   ]
  },
  {
   "cell_type": "code",
   "execution_count": 463,
   "metadata": {
    "collapsed": false
   },
   "outputs": [],
   "source": [
    "def SVh_vctzd( P, h, bw ):\n",
    "    '''\n",
    "    Experimental semivariogram for a single lag\n",
    "    bw max distance\n",
    "    h lag\n",
    "    P data\n",
    "    '''\n",
    "    pdsv = squareform( pdist( P[:,:2] ) )\n",
    "    #print pdsv\n",
    "    N = pdsv.shape[0]\n",
    "    #print N\n",
    "    #print np.triu_indices(N)\n",
    "    Z = np.zeros((N,N))\n",
    "    Z = Z - P[:,2]\n",
    "    #print Z\n",
    "    Z = Z.T + P[:,2]\n",
    "    #print Z\n",
    "    Z = Z**2\n",
    "    #print Z\n",
    "    Zcd =  Z[(pdsv >= h - bw) * (pdsv <= h + bw) * \\\n",
    "            (~np.identity(N, dtype=bool))]\n",
    "\n",
    "    #print Zcd\n",
    "    return np.sum( Zcd ) / ( 2.0 * len( Zcd ) )\n",
    "\n",
    "def SVh( P, h, bw ):\n",
    "    '''\n",
    "    Experimental semivariogram for a single lag\n",
    "    bw max distance\n",
    "    h lag\n",
    "    P data\n",
    "    '''\n",
    "    #distance matrix (eucledian)\n",
    "    pdsv = squareform( pdist( P[:,:2] ) )\n",
    "    #print pdsv\n",
    "    N = pdsv.shape[0]\n",
    "    #print N\n",
    "\n",
    "    Z = list()\n",
    "    for i in range(N):\n",
    "        for j in range(i+1, N):\n",
    "            #select only pair of points at the appropriate lag\n",
    "            if( pdsv[i,j] >= h - bw )and( pdsv[i,j] <= h + bw ):\n",
    "                Z.append( ( P[i,2] - P[j,2] )**2.0 )\n",
    "    #print Z\n",
    "    return np.sum( Z ) / ( 2.0 * len( Z ) )\n",
    "\n",
    "\n",
    "def SV( P, hs, bw ):\n",
    "    '''\n",
    "    Experimental variogram for a collection of lags\n",
    "    '''\n",
    "    sv = list()\n",
    "    for h in hs:\n",
    "        #print h\n",
    "        sv.append( SVh( P, h, bw ) )\n",
    "        #sv.append( SVh_vctzd ( P, h, bw ) )\n",
    "    sv = [ [ hs[i], sv[i] ] for i in range( len( hs ) ) if sv[i] > 0 ]\n",
    "    return np.array( sv ).T"
   ]
  },
  {
   "cell_type": "code",
   "execution_count": 497,
   "metadata": {
    "collapsed": false
   },
   "outputs": [],
   "source": [
    "mysv = SV( x, np.arange(1, 600000, 2500), 5000)\n"
   ]
  },
  {
   "cell_type": "code",
   "execution_count": 498,
   "metadata": {
    "collapsed": true
   },
   "outputs": [],
   "source": [
    "# different variogram models\n",
    "def opt( fct, x, y, C0, meshSize=1000 ):\n",
    "    parameterRange = [ x[1], x[-1] ]\n",
    "    mse = np.zeros( meshSize )\n",
    "    a = np.linspace( parameterRange[0], parameterRange[1], meshSize )\n",
    "    for i in range( meshSize ):\n",
    "        mse[i] = np.mean( ( y - fct( x, a[i], C0 ) )**2.0 )\n",
    "    return a[ mse.argmin() ]        \n",
    "\n",
    "\n",
    "def spherical( h, a, C0 ):\n",
    "    #print \"sph\"\n",
    "\n",
    "    '''\n",
    "    Spherical model of the semivariogram\n",
    "    '''\n",
    "    # if h is a single digit\n",
    "\n",
    "    \n",
    "    if type(h) == np.float64:\n",
    "        # calculate the spherical function\n",
    "        if h <= a:\n",
    "            return C0*( 1.5*h/a - 0.5*(h/a)**3.0 )\n",
    "        else:\n",
    "            return C0\n",
    "    # if h is an iterable\n",
    "    else:\n",
    "        # calcualte the spherical function for all elements\n",
    "        a = np.ones( h.size ) * a\n",
    "        C0 = np.ones( h.size ) * C0\n",
    "        return map( spherical, h, a, C0 )\n",
    "\n",
    "def exponentialngt(h, a, C0):\n",
    "    #print \"exp\"\n",
    "    '''\n",
    "    Exponential model of the semivariogram\n",
    "    '''\n",
    "    # if h is a single digit\n",
    "    if type(h) == np.float64:\n",
    "        # calculate the spherical function\n",
    "        return C0 - exp(-h/a)\n",
    "    # if h is an iterable\n",
    "    else:\n",
    "        # calcualte the spherical function for all elements\n",
    "        a = np.ones( h.size ) * a\n",
    "        C0 = np.ones( h.size ) * C0\n",
    "        return map( exponentialngt, h, a, C0 )\n",
    "\n",
    "    \n",
    "def gaussianngt(h, a, C0):\n",
    "    #print \"gaus\"\n",
    "    '''\n",
    "    Gaussian model of the semivariogram\n",
    "    '''\n",
    "    # if h is a single digit\n",
    "    if type(h) == np.float64:\n",
    "        # calculate the spherical function\n",
    "        return C0 - exp(-(h/a)**2)\n",
    "    # if h is an iterable\n",
    "    else:\n",
    "        # calcualte the spherical function for all elements\n",
    "        a = np.ones( h.size ) * a\n",
    "        C0 = np.ones( h.size ) * C0\n",
    "        return map( gaussianngt, h, a, C0 )\n",
    "\n",
    "\n",
    "\n",
    "def C( P, h, bw ):\n",
    "    '''\n",
    "    Calculate the sill\n",
    "    '''\n",
    "    c0 = np.var( P[:,2] )\n",
    "    if h == 0:\n",
    "        return c0\n",
    "    return c0 - SVh( P, h, bw )\n",
    "\n",
    "\n",
    "\n",
    "def cvmodel( P, model, hs, bw ):\n",
    "    '''\n",
    "    Input:  (P)      ndarray, data\n",
    "            (model)  modeling function\n",
    "                      - spherical\n",
    "                      - exponentialngt\n",
    "                      - gaussian\n",
    "            (hs)     distances\n",
    "            (bw)     bandwidth\n",
    "    Output: (covfct) function modeling the covariance\n",
    "    '''\n",
    "    # calculate the semivariogram\n",
    "    sv = SV( P, hs, bw )\n",
    "    # calculate the sill\n",
    "    C0 = C( P, hs[0], bw )\n",
    "    #print C0\n",
    "    # calculate the optimal parameters\n",
    "    param = opt( model, sv[0], sv[1], C0 )\n",
    "    # return a covariance function\n",
    "    covfct = lambda h, a = param: C0 - model( h, a, C0 )\n",
    "    return covfct"
   ]
  },
  {
   "cell_type": "code",
   "execution_count": 499,
   "metadata": {
    "collapsed": false
   },
   "outputs": [
    {
     "data": {
      "text/plain": [
       "<matplotlib.text.Text at 0x1380ae4d0>"
      ]
     },
     "execution_count": 499,
     "metadata": {},
     "output_type": "execute_result"
    },
    {
     "data": {
      "image/png": "[encoded data removed]",
      "text/plain": [
       "<matplotlib.figure.Figure at 0x137dfb890>"
      ]
     },
     "metadata": {},
     "output_type": "display_data"
    }
   ],
   "source": [
    "# lags in 2500 meter increments from zero to 100,000\n",
    "bw = 2500\n",
    "hs = np.arange(0, 105000, 1000)\n",
    "\n",
    "pl.figure(figsize=(8,8))\n",
    "sv = SV( P, hs, bw )\n",
    "pl.plot( mysv[0], mysv[1], '.-' )\n",
    "pl.xlabel('Lag [m]', fontsize=20)\n",
    "pl.ylabel('Semivariogram', fontsize=20)\n",
    "pl.title('Semivariogram, lag %dm'%lag, fontsize=20) "
   ]
  },
  {
   "cell_type": "markdown",
   "metadata": {},
   "source": [
    "## Figure Caption: Semivariogram of Asthma dismissal records"
   ]
  },
  {
   "cell_type": "code",
   "execution_count": 500,
   "metadata": {
    "collapsed": true
   },
   "outputs": [],
   "source": [
    "def spherical( h, a, C0 ):\n",
    "    '''\n",
    "    Spherical model of the semivariogram\n",
    "    '''\n",
    "    # if h is a single digit\n",
    "    if type(h) == np.float64:\n",
    "        # calculate the spherical function\n",
    "        if h <= a:\n",
    "            return C0*( 1.5*h/a - 0.5*(h/a)**3.0 )\n",
    "        else:\n",
    "            return C0\n",
    "    # if h is an iterable\n",
    "    else:\n",
    "        # calcualte the spherical function for all elements\n",
    "        a = np.ones( h.size ) * a\n",
    "        C0 = np.ones( h.size ) * C0\n",
    "        return map( spherical, h, a, C0 )\n"
   ]
  },
  {
   "cell_type": "code",
   "execution_count": 501,
   "metadata": {
    "collapsed": true
   },
   "outputs": [],
   "source": [
    "def cvmodel( P, model, hs, bw ):\n",
    "    '''\n",
    "    Input:  (P)      ndarray, data\n",
    "            (model)  modeling function\n",
    "                      - spherical\n",
    "                      - exponential\n",
    "                      - gaussian\n",
    "            (hs)     distances\n",
    "            (bw)     bandwidth\n",
    "    Output: (covfct) function modeling the covariance\n",
    "    '''\n",
    "    # calculate the semivariogram\n",
    "    sv = SV( P, hs, bw )\n",
    "    # calculate the sill\n",
    "    C0 = C( P, hs[0], bw )\n",
    "    # calculate the optimal parameters\n",
    "    param = opt( model, sv[0], sv[1], C0 )\n",
    "    # return a covariance function\n",
    "    covfct = lambda h, a=param: C0 - model( h, a, C0 )\n",
    "    return covfct\n"
   ]
  },
  {
   "cell_type": "code",
   "execution_count": 502,
   "metadata": {
    "collapsed": false
   },
   "outputs": [
    {
     "data": {
      "image/png": "[encoded data removed]",
      "text/plain": [
       "<matplotlib.figure.Figure at 0x138087050>"
      ]
     },
     "metadata": {},
     "output_type": "display_data"
    }
   ],
   "source": [
    "bw = 2500\n",
    "pl.figure(figsize=(8,8))\n",
    "sp = cvmodel( x, model=spherical, \n",
    "             hs = np.arange(0, 100000, 2500), bw=bw)\n",
    "#print sp(mysv[0])\n",
    "sphere = sp(mysv[0])\n",
    "pl.plot( mysv[0], mysv[1], '.-' )\n",
    "pl.plot(mysv[0], -sphere+sphere.max())\n",
    "pl.xlabel('Lag [m]', fontsize=20)\n",
    "pl.ylabel('Semivariogram', fontsize=20)\n",
    "pl.title('Semivariogram and model', fontsize=20) ;\n"
   ]
  },
  {
   "cell_type": "markdown",
   "metadata": {},
   "source": [
    "## Figure Caption: Semivariogram and Spherical Model of Asthma dismissal records"
   ]
  },
  {
   "cell_type": "markdown",
   "metadata": {},
   "source": [
    "## Thoughts : The plot of semivariogram and model is not fitting so well. It seems to me, the further point sometimes is more similiar than the closer point to a certain area. It could be due to not enough samples(s< 30), or the hospital's zipcode of the dismissal records does not necessarily represent where the Asthma patient lives. "
   ]
  },
  {
   "cell_type": "markdown",
   "metadata": {},
   "source": [
    "---"
   ]
  },
  {
   "cell_type": "markdown",
   "metadata": {},
   "source": [
    "### Let's SEE that our data is distributed normally."
   ]
  },
  {
   "cell_type": "code",
   "execution_count": 503,
   "metadata": {
    "collapsed": false
   },
   "outputs": [
    {
     "data": {
      "image/png": "[encoded data removed]",
      "text/plain": [
       "<matplotlib.figure.Figure at 0x1380903d0>"
      ]
     },
     "metadata": {},
     "output_type": "display_data"
    }
   ],
   "source": [
    "qqdata = stats.probplot(krigdata[:,2], dist=\"norm\",plot=pl,fit=False, rvalue= True)\n",
    "xh=pl.xlabel('Standard Normal Quantiles')\n",
    "yh=pl.ylabel('Sorted Porosity Values')\n",
    "fig=pl.gcf()\n",
    "fig.set_size_inches(6,6)\n",
    "th=pl.title('')"
   ]
  },
  {
   "cell_type": "markdown",
   "metadata": {},
   "source": [
    "   ## The R2 value looks okay, but we definitely need more data to see if it is normally distributed.  "
   ]
  },
  {
   "cell_type": "markdown",
   "metadata": {},
   "source": [
    "----"
   ]
  },
  {
   "cell_type": "markdown",
   "metadata": {},
   "source": [
    "# Use Geostatsmodel "
   ]
  },
  {
   "cell_type": "code",
   "execution_count": 504,
   "metadata": {
    "collapsed": false
   },
   "outputs": [
    {
     "data": {
      "image/png": "[encoded data removed]",
      "text/plain": [
       "<matplotlib.figure.Figure at 0x13869fd90>"
      ]
     },
     "metadata": {},
     "output_type": "display_data"
    }
   ],
   "source": [
    "tolerance = 2500\n",
    "lags = np.arange( tolerance, 100000, tolerance*2 )\n",
    "sill = np.var(krigdata[:,2])\n",
    "P = krigdata\n",
    "geoplot.semivariogram( P, lags, tolerance )"
   ]
  },
  {
   "cell_type": "code",
   "execution_count": 507,
   "metadata": {
    "collapsed": false
   },
   "outputs": [
    {
     "data": {
      "image/png": "[encoded data removed]",
      "text/plain": [
       "<matplotlib.figure.Figure at 0x1388bb310>"
      ]
     },
     "metadata": {},
     "output_type": "display_data"
    }
   ],
   "source": [
    "svm = model.semivariance( model.spherical, [ 15000, sill ] )\n",
    "geoplot.semivariogram( P, lags, tolerance, model=svm )"
   ]
  },
  {
   "cell_type": "markdown",
   "metadata": {},
   "source": [
    "## The result obtained from the geostatsmodel package is smiliar to what we got from the previous practice. The semivariogram is too wavy, it is hard to make conclusion that Asthma occurence has geospatial pattern. "
   ]
  },
  {
   "cell_type": "code",
   "execution_count": null,
   "metadata": {
    "collapsed": true
   },
   "outputs": [],
   "source": []
  }
 ],
 "metadata": {
  "anaconda-cloud": {},
  "kernelspec": {
   "display_name": "Python [Root]",
   "language": "python",
   "name": "Python [Root]"
  }
 },
 "nbformat": 4,
 "nbformat_minor": 0
}
