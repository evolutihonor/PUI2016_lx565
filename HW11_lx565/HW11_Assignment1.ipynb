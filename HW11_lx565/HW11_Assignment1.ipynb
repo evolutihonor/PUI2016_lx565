{
 "cells": [
  {
   "cell_type": "markdown",
   "metadata": {},
   "source": [
    "<h1 id=\"tocheading\">Table of Contents</h1>\n",
    "<div id=\"toc\"></div>"
   ]
  },
  {
   "cell_type": "code",
   "execution_count": 17,
   "metadata": {
    "collapsed": false
   },
   "outputs": [
    {
     "data": {
      "application/javascript": [
       "$.getScript('https://kmahelona.github.io/ipython_notebook_goodies/ipython_notebook_toc.js')"
      ],
      "text/plain": [
       "<IPython.core.display.Javascript object>"
      ]
     },
     "metadata": {},
     "output_type": "display_data"
    }
   ],
   "source": [
    "%%javascript\n",
    "$.getScript('https://kmahelona.github.io/ipython_notebook_goodies/ipython_notebook_toc.js')"
   ]
  },
  {
   "cell_type": "markdown",
   "metadata": {},
   "source": [
    "## Import Data: Census Track Shape file.\n",
    "\n",
    "    http://www1.nyc.gov/\n",
    "    Name : nycb2010_16d"
   ]
  },
  {
   "cell_type": "code",
   "execution_count": 2,
   "metadata": {
    "collapsed": true
   },
   "outputs": [],
   "source": [
    "from geopandas import GeoDataFrame\n",
    "import shapefile \n",
    "import pandas as pd\n",
    "from fiona.crs import from_epsg\n",
    "import fiona\n",
    "import shapely\n",
    "import matplotlib.pyplot as plt\n",
    "%matplotlib inline"
   ]
  },
  {
   "cell_type": "code",
   "execution_count": 3,
   "metadata": {
    "collapsed": false
   },
   "outputs": [
    {
     "data": {
      "text/html": [
       "<div>\n",
       "<table border=\"1\" class=\"dataframe\">\n",
       "  <thead>\n",
       "    <tr style=\"text-align: right;\">\n",
       "      <th></th>\n",
       "      <th>BCTCB2010</th>\n",
       "      <th>BoroCode</th>\n",
       "      <th>BoroName</th>\n",
       "      <th>CB2010</th>\n",
       "      <th>CT2010</th>\n",
       "      <th>Shape_Area</th>\n",
       "      <th>Shape_Leng</th>\n",
       "      <th>geometry</th>\n",
       "    </tr>\n",
       "  </thead>\n",
       "  <tbody>\n",
       "    <tr>\n",
       "      <th>0</th>\n",
       "      <td>50009001000</td>\n",
       "      <td>5</td>\n",
       "      <td>Staten Island</td>\n",
       "      <td>1000</td>\n",
       "      <td>000900</td>\n",
       "      <td>244589.603884</td>\n",
       "      <td>2508.948115</td>\n",
       "      <td>POLYGON ((962269.1260375977 173705.5001831055,...</td>\n",
       "    </tr>\n",
       "    <tr>\n",
       "      <th>1</th>\n",
       "      <td>50020011000</td>\n",
       "      <td>5</td>\n",
       "      <td>Staten Island</td>\n",
       "      <td>1000</td>\n",
       "      <td>002001</td>\n",
       "      <td>111006.286826</td>\n",
       "      <td>1345.886422</td>\n",
       "      <td>POLYGON ((964642.2676391602 161835.2651977539,...</td>\n",
       "    </tr>\n",
       "    <tr>\n",
       "      <th>2</th>\n",
       "      <td>50027001000</td>\n",
       "      <td>5</td>\n",
       "      <td>Staten Island</td>\n",
       "      <td>1000</td>\n",
       "      <td>002700</td>\n",
       "      <td>150406.766022</td>\n",
       "      <td>1703.381172</td>\n",
       "      <td>POLYGON ((963363.1168212891 167356.3336181641,...</td>\n",
       "    </tr>\n",
       "    <tr>\n",
       "      <th>3</th>\n",
       "      <td>50040001000</td>\n",
       "      <td>5</td>\n",
       "      <td>Staten Island</td>\n",
       "      <td>1000</td>\n",
       "      <td>004000</td>\n",
       "      <td>141296.561149</td>\n",
       "      <td>1511.173743</td>\n",
       "      <td>POLYGON ((960069.9965820312 161953.6936035156,...</td>\n",
       "    </tr>\n",
       "    <tr>\n",
       "      <th>4</th>\n",
       "      <td>50064001000</td>\n",
       "      <td>5</td>\n",
       "      <td>Staten Island</td>\n",
       "      <td>1000</td>\n",
       "      <td>006400</td>\n",
       "      <td>200784.983607</td>\n",
       "      <td>1978.243852</td>\n",
       "      <td>POLYGON ((963023.891784668 158246.7521972656, ...</td>\n",
       "    </tr>\n",
       "  </tbody>\n",
       "</table>\n",
       "</div>"
      ],
      "text/plain": [
       "     BCTCB2010 BoroCode       BoroName CB2010  CT2010     Shape_Area  \\\n",
       "0  50009001000        5  Staten Island   1000  000900  244589.603884   \n",
       "1  50020011000        5  Staten Island   1000  002001  111006.286826   \n",
       "2  50027001000        5  Staten Island   1000  002700  150406.766022   \n",
       "3  50040001000        5  Staten Island   1000  004000  141296.561149   \n",
       "4  50064001000        5  Staten Island   1000  006400  200784.983607   \n",
       "\n",
       "    Shape_Leng                                           geometry  \n",
       "0  2508.948115  POLYGON ((962269.1260375977 173705.5001831055,...  \n",
       "1  1345.886422  POLYGON ((964642.2676391602 161835.2651977539,...  \n",
       "2  1703.381172  POLYGON ((963363.1168212891 167356.3336181641,...  \n",
       "3  1511.173743  POLYGON ((960069.9965820312 161953.6936035156,...  \n",
       "4  1978.243852  POLYGON ((963023.891784668 158246.7521972656, ...  "
      ]
     },
     "execution_count": 3,
     "metadata": {},
     "output_type": "execute_result"
    }
   ],
   "source": [
    "ct_shape = GeoDataFrame.from_file(\"nycb2010_16d/nycb2010.shp\")\n",
    "ct_shape.head()"
   ]
  },
  {
   "cell_type": "markdown",
   "metadata": {
    "collapsed": true
   },
   "source": [
    "## Extract only the Brooklyn shape polygons and convert the coordinates to lat/lon "
   ]
  },
  {
   "cell_type": "markdown",
   "metadata": {},
   "source": [
    "### Convert the coordinates\n",
    "    From epsg=2263 to epsg=4326"
   ]
  },
  {
   "cell_type": "code",
   "execution_count": 4,
   "metadata": {
    "collapsed": false
   },
   "outputs": [
    {
     "data": {
      "text/html": [
       "<div>\n",
       "<table border=\"1\" class=\"dataframe\">\n",
       "  <thead>\n",
       "    <tr style=\"text-align: right;\">\n",
       "      <th></th>\n",
       "      <th>BCTCB2010</th>\n",
       "      <th>BoroCode</th>\n",
       "      <th>BoroName</th>\n",
       "      <th>CB2010</th>\n",
       "      <th>CT2010</th>\n",
       "      <th>Shape_Area</th>\n",
       "      <th>Shape_Leng</th>\n",
       "      <th>geometry</th>\n",
       "    </tr>\n",
       "  </thead>\n",
       "  <tbody>\n",
       "    <tr>\n",
       "      <th>0</th>\n",
       "      <td>50009001000</td>\n",
       "      <td>5</td>\n",
       "      <td>Staten Island</td>\n",
       "      <td>1000</td>\n",
       "      <td>000900</td>\n",
       "      <td>244589.603884</td>\n",
       "      <td>2508.948115</td>\n",
       "      <td>POLYGON ((-74.07920577013249 40.643430783779, ...</td>\n",
       "    </tr>\n",
       "    <tr>\n",
       "      <th>1</th>\n",
       "      <td>50020011000</td>\n",
       "      <td>5</td>\n",
       "      <td>Staten Island</td>\n",
       "      <td>1000</td>\n",
       "      <td>002001</td>\n",
       "      <td>111006.286826</td>\n",
       "      <td>1345.886422</td>\n",
       "      <td>POLYGON ((-74.07061992438021 40.6108550670875,...</td>\n",
       "    </tr>\n",
       "    <tr>\n",
       "      <th>2</th>\n",
       "      <td>50027001000</td>\n",
       "      <td>5</td>\n",
       "      <td>Staten Island</td>\n",
       "      <td>1000</td>\n",
       "      <td>002700</td>\n",
       "      <td>150406.766022</td>\n",
       "      <td>1703.381172</td>\n",
       "      <td>POLYGON ((-74.07524403910647 40.62600632456046...</td>\n",
       "    </tr>\n",
       "    <tr>\n",
       "      <th>3</th>\n",
       "      <td>50040001000</td>\n",
       "      <td>5</td>\n",
       "      <td>Staten Island</td>\n",
       "      <td>1000</td>\n",
       "      <td>004000</td>\n",
       "      <td>141296.561149</td>\n",
       "      <td>1511.173743</td>\n",
       "      <td>POLYGON ((-74.0870879968983 40.61116883127258,...</td>\n",
       "    </tr>\n",
       "    <tr>\n",
       "      <th>4</th>\n",
       "      <td>50064001000</td>\n",
       "      <td>5</td>\n",
       "      <td>Staten Island</td>\n",
       "      <td>1000</td>\n",
       "      <td>006400</td>\n",
       "      <td>200784.983607</td>\n",
       "      <td>1978.243852</td>\n",
       "      <td>POLYGON ((-74.07643744511995 40.60100160658921...</td>\n",
       "    </tr>\n",
       "  </tbody>\n",
       "</table>\n",
       "</div>"
      ],
      "text/plain": [
       "     BCTCB2010 BoroCode       BoroName CB2010  CT2010     Shape_Area  \\\n",
       "0  50009001000        5  Staten Island   1000  000900  244589.603884   \n",
       "1  50020011000        5  Staten Island   1000  002001  111006.286826   \n",
       "2  50027001000        5  Staten Island   1000  002700  150406.766022   \n",
       "3  50040001000        5  Staten Island   1000  004000  141296.561149   \n",
       "4  50064001000        5  Staten Island   1000  006400  200784.983607   \n",
       "\n",
       "    Shape_Leng                                           geometry  \n",
       "0  2508.948115  POLYGON ((-74.07920577013249 40.643430783779, ...  \n",
       "1  1345.886422  POLYGON ((-74.07061992438021 40.6108550670875,...  \n",
       "2  1703.381172  POLYGON ((-74.07524403910647 40.62600632456046...  \n",
       "3  1511.173743  POLYGON ((-74.0870879968983 40.61116883127258,...  \n",
       "4  1978.243852  POLYGON ((-74.07643744511995 40.60100160658921...  "
      ]
     },
     "execution_count": 4,
     "metadata": {},
     "output_type": "execute_result"
    }
   ],
   "source": [
    "ct_shape = ct_shape.to_crs(epsg=4326)  \n",
    "ct_shape.head()"
   ]
  },
  {
   "cell_type": "markdown",
   "metadata": {},
   "source": [
    "### Extract only the Brooklyn shape polygons"
   ]
  },
  {
   "cell_type": "code",
   "execution_count": 5,
   "metadata": {
    "collapsed": false
   },
   "outputs": [
    {
     "data": {
      "text/html": [
       "<div>\n",
       "<table border=\"1\" class=\"dataframe\">\n",
       "  <thead>\n",
       "    <tr style=\"text-align: right;\">\n",
       "      <th></th>\n",
       "      <th>BCTCB2010</th>\n",
       "      <th>BoroCode</th>\n",
       "      <th>BoroName</th>\n",
       "      <th>CB2010</th>\n",
       "      <th>CT2010</th>\n",
       "      <th>Shape_Area</th>\n",
       "      <th>Shape_Leng</th>\n",
       "      <th>geometry</th>\n",
       "    </tr>\n",
       "  </thead>\n",
       "  <tbody>\n",
       "    <tr>\n",
       "      <th>5037</th>\n",
       "      <td>30002001000</td>\n",
       "      <td>3</td>\n",
       "      <td>Brooklyn</td>\n",
       "      <td>1000</td>\n",
       "      <td>000200</td>\n",
       "      <td>208484.989566</td>\n",
       "      <td>2097.493132</td>\n",
       "      <td>POLYGON ((-74.00659158337982 40.65561273368512...</td>\n",
       "    </tr>\n",
       "    <tr>\n",
       "      <th>5038</th>\n",
       "      <td>30003011000</td>\n",
       "      <td>3</td>\n",
       "      <td>Brooklyn</td>\n",
       "      <td>1000</td>\n",
       "      <td>000301</td>\n",
       "      <td>63365.958361</td>\n",
       "      <td>1006.913933</td>\n",
       "      <td>POLYGON ((-73.99514512602698 40.69877384570529...</td>\n",
       "    </tr>\n",
       "    <tr>\n",
       "      <th>5039</th>\n",
       "      <td>30005011000</td>\n",
       "      <td>3</td>\n",
       "      <td>Brooklyn</td>\n",
       "      <td>1000</td>\n",
       "      <td>000501</td>\n",
       "      <td>116303.194723</td>\n",
       "      <td>1431.900698</td>\n",
       "      <td>POLYGON ((-73.99270830309769 40.6980992598468,...</td>\n",
       "    </tr>\n",
       "    <tr>\n",
       "      <th>5040</th>\n",
       "      <td>30011001000</td>\n",
       "      <td>3</td>\n",
       "      <td>Brooklyn</td>\n",
       "      <td>1000</td>\n",
       "      <td>001100</td>\n",
       "      <td>54802.306859</td>\n",
       "      <td>951.657541</td>\n",
       "      <td>POLYGON ((-73.9851430608965 40.69488514300313,...</td>\n",
       "    </tr>\n",
       "    <tr>\n",
       "      <th>5041</th>\n",
       "      <td>30015001000</td>\n",
       "      <td>3</td>\n",
       "      <td>Brooklyn</td>\n",
       "      <td>1000</td>\n",
       "      <td>001500</td>\n",
       "      <td>79196.530872</td>\n",
       "      <td>1129.348482</td>\n",
       "      <td>POLYGON ((-73.98305147125492 40.69837793357372...</td>\n",
       "    </tr>\n",
       "    <tr>\n",
       "      <th>5042</th>\n",
       "      <td>30020001000</td>\n",
       "      <td>3</td>\n",
       "      <td>Brooklyn</td>\n",
       "      <td>1000</td>\n",
       "      <td>002000</td>\n",
       "      <td>203150.927230</td>\n",
       "      <td>2076.660170</td>\n",
       "      <td>POLYGON ((-74.01298705619368 40.64945600088912...</td>\n",
       "    </tr>\n",
       "    <tr>\n",
       "      <th>5043</th>\n",
       "      <td>30022001000</td>\n",
       "      <td>3</td>\n",
       "      <td>Brooklyn</td>\n",
       "      <td>1000</td>\n",
       "      <td>002200</td>\n",
       "      <td>202989.817092</td>\n",
       "      <td>2080.720191</td>\n",
       "      <td>POLYGON ((-74.01925526318797 40.64685276173369...</td>\n",
       "    </tr>\n",
       "    <tr>\n",
       "      <th>5044</th>\n",
       "      <td>30030001000</td>\n",
       "      <td>3</td>\n",
       "      <td>Brooklyn</td>\n",
       "      <td>1000</td>\n",
       "      <td>003000</td>\n",
       "      <td>2288.488412</td>\n",
       "      <td>251.742624</td>\n",
       "      <td>POLYGON ((-74.02626267406126 40.64009438137107...</td>\n",
       "    </tr>\n",
       "    <tr>\n",
       "      <th>5045</th>\n",
       "      <td>30031001000</td>\n",
       "      <td>3</td>\n",
       "      <td>Brooklyn</td>\n",
       "      <td>1000</td>\n",
       "      <td>003100</td>\n",
       "      <td>214447.259568</td>\n",
       "      <td>1902.577167</td>\n",
       "      <td>POLYGON ((-73.97782679465359 40.69343813943176...</td>\n",
       "    </tr>\n",
       "    <tr>\n",
       "      <th>5046</th>\n",
       "      <td>30033001000</td>\n",
       "      <td>3</td>\n",
       "      <td>Brooklyn</td>\n",
       "      <td>1000</td>\n",
       "      <td>003300</td>\n",
       "      <td>258228.648239</td>\n",
       "      <td>2448.507197</td>\n",
       "      <td>POLYGON ((-73.97510566428163 40.68969750920952...</td>\n",
       "    </tr>\n",
       "  </tbody>\n",
       "</table>\n",
       "</div>"
      ],
      "text/plain": [
       "        BCTCB2010 BoroCode  BoroName CB2010  CT2010     Shape_Area  \\\n",
       "5037  30002001000        3  Brooklyn   1000  000200  208484.989566   \n",
       "5038  30003011000        3  Brooklyn   1000  000301   63365.958361   \n",
       "5039  30005011000        3  Brooklyn   1000  000501  116303.194723   \n",
       "5040  30011001000        3  Brooklyn   1000  001100   54802.306859   \n",
       "5041  30015001000        3  Brooklyn   1000  001500   79196.530872   \n",
       "5042  30020001000        3  Brooklyn   1000  002000  203150.927230   \n",
       "5043  30022001000        3  Brooklyn   1000  002200  202989.817092   \n",
       "5044  30030001000        3  Brooklyn   1000  003000    2288.488412   \n",
       "5045  30031001000        3  Brooklyn   1000  003100  214447.259568   \n",
       "5046  30033001000        3  Brooklyn   1000  003300  258228.648239   \n",
       "\n",
       "       Shape_Leng                                           geometry  \n",
       "5037  2097.493132  POLYGON ((-74.00659158337982 40.65561273368512...  \n",
       "5038  1006.913933  POLYGON ((-73.99514512602698 40.69877384570529...  \n",
       "5039  1431.900698  POLYGON ((-73.99270830309769 40.6980992598468,...  \n",
       "5040   951.657541  POLYGON ((-73.9851430608965 40.69488514300313,...  \n",
       "5041  1129.348482  POLYGON ((-73.98305147125492 40.69837793357372...  \n",
       "5042  2076.660170  POLYGON ((-74.01298705619368 40.64945600088912...  \n",
       "5043  2080.720191  POLYGON ((-74.01925526318797 40.64685276173369...  \n",
       "5044   251.742624  POLYGON ((-74.02626267406126 40.64009438137107...  \n",
       "5045  1902.577167  POLYGON ((-73.97782679465359 40.69343813943176...  \n",
       "5046  2448.507197  POLYGON ((-73.97510566428163 40.68969750920952...  "
      ]
     },
     "execution_count": 5,
     "metadata": {},
     "output_type": "execute_result"
    }
   ],
   "source": [
    "ct_latlon = ct_shape[ct_shape.BoroName == \"Brooklyn\"] \n",
    "ct_latlon.head(10)"
   ]
  },
  {
   "cell_type": "code",
   "execution_count": 6,
   "metadata": {
    "collapsed": false
   },
   "outputs": [
    {
     "data": {
      "text/html": [
       "<div>\n",
       "<table border=\"1\" class=\"dataframe\">\n",
       "  <thead>\n",
       "    <tr style=\"text-align: right;\">\n",
       "      <th></th>\n",
       "      <th>BCTCB2010</th>\n",
       "      <th>BoroCode</th>\n",
       "      <th>BoroName</th>\n",
       "      <th>CB2010</th>\n",
       "      <th>CT2010</th>\n",
       "      <th>Shape_Area</th>\n",
       "      <th>Shape_Leng</th>\n",
       "      <th>geometry</th>\n",
       "    </tr>\n",
       "  </thead>\n",
       "  <tbody>\n",
       "    <tr>\n",
       "      <th>38780</th>\n",
       "      <td>30159001004</td>\n",
       "      <td>3</td>\n",
       "      <td>Brooklyn</td>\n",
       "      <td>1004</td>\n",
       "      <td>015900</td>\n",
       "      <td>1.898360e+05</td>\n",
       "      <td>2019.867710</td>\n",
       "      <td>POLYGON ((-73.97009060164002 40.67479961562587...</td>\n",
       "    </tr>\n",
       "    <tr>\n",
       "      <th>38785</th>\n",
       "      <td>30255001000</td>\n",
       "      <td>3</td>\n",
       "      <td>Brooklyn</td>\n",
       "      <td>1000</td>\n",
       "      <td>025500</td>\n",
       "      <td>7.457156e+05</td>\n",
       "      <td>3463.884145</td>\n",
       "      <td>POLYGON ((-73.94994334334457 40.69904728249294...</td>\n",
       "    </tr>\n",
       "    <tr>\n",
       "      <th>38786</th>\n",
       "      <td>30531001001</td>\n",
       "      <td>3</td>\n",
       "      <td>Brooklyn</td>\n",
       "      <td>1001</td>\n",
       "      <td>053100</td>\n",
       "      <td>2.420815e+05</td>\n",
       "      <td>2368.885044</td>\n",
       "      <td>POLYGON ((-73.95013638357567 40.69991541475112...</td>\n",
       "    </tr>\n",
       "    <tr>\n",
       "      <th>38791</th>\n",
       "      <td>30177001015</td>\n",
       "      <td>3</td>\n",
       "      <td>Brooklyn</td>\n",
       "      <td>1015</td>\n",
       "      <td>017700</td>\n",
       "      <td>5.876303e+05</td>\n",
       "      <td>6679.656578</td>\n",
       "      <td>POLYGON ((-73.96188086439825 40.65488119158298...</td>\n",
       "    </tr>\n",
       "    <tr>\n",
       "      <th>38792</th>\n",
       "      <td>30177001020</td>\n",
       "      <td>3</td>\n",
       "      <td>Brooklyn</td>\n",
       "      <td>1020</td>\n",
       "      <td>017700</td>\n",
       "      <td>2.493996e+06</td>\n",
       "      <td>20334.551359</td>\n",
       "      <td>POLYGON ((-73.96372233169369 40.65985519209716...</td>\n",
       "    </tr>\n",
       "  </tbody>\n",
       "</table>\n",
       "</div>"
      ],
      "text/plain": [
       "         BCTCB2010 BoroCode  BoroName CB2010  CT2010    Shape_Area  \\\n",
       "38780  30159001004        3  Brooklyn   1004  015900  1.898360e+05   \n",
       "38785  30255001000        3  Brooklyn   1000  025500  7.457156e+05   \n",
       "38786  30531001001        3  Brooklyn   1001  053100  2.420815e+05   \n",
       "38791  30177001015        3  Brooklyn   1015  017700  5.876303e+05   \n",
       "38792  30177001020        3  Brooklyn   1020  017700  2.493996e+06   \n",
       "\n",
       "         Shape_Leng                                           geometry  \n",
       "38780   2019.867710  POLYGON ((-73.97009060164002 40.67479961562587...  \n",
       "38785   3463.884145  POLYGON ((-73.94994334334457 40.69904728249294...  \n",
       "38786   2368.885044  POLYGON ((-73.95013638357567 40.69991541475112...  \n",
       "38791   6679.656578  POLYGON ((-73.96188086439825 40.65488119158298...  \n",
       "38792  20334.551359  POLYGON ((-73.96372233169369 40.65985519209716...  "
      ]
     },
     "execution_count": 6,
     "metadata": {},
     "output_type": "execute_result"
    }
   ],
   "source": [
    "ct_latlon.tail()"
   ]
  },
  {
   "cell_type": "markdown",
   "metadata": {},
   "source": [
    "## Find the coordinates of CUSP: 1 MetroTech Brooklyn. \n",
    "    Create a Point shapely geometry with the coordinates of CUSP\n",
    "\n",
    "    shapely.geometry.Point()"
   ]
  },
  {
   "cell_type": "markdown",
   "metadata": {},
   "source": [
    "### Coordinates of CUSP: lat = 40.6931, lon = 73.9866"
   ]
  },
  {
   "cell_type": "code",
   "execution_count": 7,
   "metadata": {
    "collapsed": false
   },
   "outputs": [
    {
     "data": {
      "text/html": [
       "<div>\n",
       "<table border=\"1\" class=\"dataframe\">\n",
       "  <thead>\n",
       "    <tr style=\"text-align: right;\">\n",
       "      <th></th>\n",
       "      <th>Location</th>\n",
       "      <th>lat</th>\n",
       "      <th>lon</th>\n",
       "    </tr>\n",
       "  </thead>\n",
       "  <tbody>\n",
       "    <tr>\n",
       "      <th>0</th>\n",
       "      <td>1 MetroTech Brooklyn</td>\n",
       "      <td>40.6931</td>\n",
       "      <td>-73.9866</td>\n",
       "    </tr>\n",
       "  </tbody>\n",
       "</table>\n",
       "</div>"
      ],
      "text/plain": [
       "                Location      lat      lon\n",
       "0   1 MetroTech Brooklyn  40.6931 -73.9866"
      ]
     },
     "execution_count": 7,
     "metadata": {},
     "output_type": "execute_result"
    }
   ],
   "source": [
    "cusplatlon = [{\"Location\": \" 1 MetroTech Brooklyn\", \"lon\": -73.9866 , \"lat\": 40.6931}]\n",
    "cusp = GeoDataFrame(data=cusplatlon)\n",
    "cusp"
   ]
  },
  {
   "cell_type": "code",
   "execution_count": 8,
   "metadata": {
    "collapsed": false
   },
   "outputs": [
    {
     "name": "stdout",
     "output_type": "stream",
     "text": [
      "POINT (-73.9866 40.6931)\n"
     ]
    }
   ],
   "source": [
    "point = shapely.geometry.Point(cusp.lon, cusp.lat)\n",
    "print point\n",
    "from shapely.geometry import shape"
   ]
  },
  {
   "cell_type": "markdown",
   "metadata": {},
   "source": [
    "### Loop over the Brookly polygons (nearly 10000) and assess find in which geometry the polygon is contained"
   ]
  },
  {
   "cell_type": "code",
   "execution_count": 9,
   "metadata": {
    "collapsed": false
   },
   "outputs": [
    {
     "name": "stdout",
     "output_type": "stream",
     "text": [
      "2554\n",
      "CUSP is contained in POLYGON ((-73.98622595691906 40.6930883134384, -73.98627231669103 40.6921947946671, -73.98729894947923 40.69223407543158, -73.98725396415627 40.69312490276505, -73.98622595691906 40.6930883134384))\n"
     ]
    }
   ],
   "source": [
    "cuspploy = []\n",
    "for i, ct in enumerate(ct_latlon.geometry):\n",
    "    # to loop over brooklyn polygons\n",
    "     if shape(ct).contains(point):\n",
    "            # to see if the polygons contains the cusp point\n",
    "            print i\n",
    "            cuspploy.append(ct)\n",
    "            print('CUSP is contained in %s'%(str(ct)))\n"
   ]
  },
  {
   "cell_type": "code",
   "execution_count": 10,
   "metadata": {
    "collapsed": false
   },
   "outputs": [],
   "source": [
    "ct_latlon.reset_index(inplace = True)"
   ]
  },
  {
   "cell_type": "code",
   "execution_count": 11,
   "metadata": {
    "collapsed": false
   },
   "outputs": [],
   "source": [
    "cusppoly = GeoDataFrame(ct_latlon.iloc[2554, :]).T"
   ]
  },
  {
   "cell_type": "code",
   "execution_count": 12,
   "metadata": {
    "collapsed": false
   },
   "outputs": [
    {
     "data": {
      "text/html": [
       "<div>\n",
       "<table border=\"1\" class=\"dataframe\">\n",
       "  <thead>\n",
       "    <tr style=\"text-align: right;\">\n",
       "      <th></th>\n",
       "      <th>index</th>\n",
       "      <th>BCTCB2010</th>\n",
       "      <th>BoroCode</th>\n",
       "      <th>BoroName</th>\n",
       "      <th>CB2010</th>\n",
       "      <th>CT2010</th>\n",
       "      <th>Shape_Area</th>\n",
       "      <th>Shape_Leng</th>\n",
       "      <th>geometry</th>\n",
       "    </tr>\n",
       "  </thead>\n",
       "  <tbody>\n",
       "    <tr>\n",
       "      <th>2554</th>\n",
       "      <td>7591</td>\n",
       "      <td>30011001008</td>\n",
       "      <td>3</td>\n",
       "      <td>Brooklyn</td>\n",
       "      <td>1008</td>\n",
       "      <td>001100</td>\n",
       "      <td>92776.3</td>\n",
       "      <td>1221.03</td>\n",
       "      <td>POLYGON ((-73.98622595691906 40.6930883134384,...</td>\n",
       "    </tr>\n",
       "  </tbody>\n",
       "</table>\n",
       "</div>"
      ],
      "text/plain": [
       "     index    BCTCB2010 BoroCode  BoroName CB2010  CT2010 Shape_Area  \\\n",
       "2554  7591  30011001008        3  Brooklyn   1008  001100    92776.3   \n",
       "\n",
       "     Shape_Leng                                           geometry  \n",
       "2554    1221.03  POLYGON ((-73.98622595691906 40.6930883134384,...  "
      ]
     },
     "execution_count": 12,
     "metadata": {},
     "output_type": "execute_result"
    }
   ],
   "source": [
    "cusppoly"
   ]
  },
  {
   "cell_type": "markdown",
   "metadata": {},
   "source": [
    "## Plot one every 10 polygons of brooklyn (using the geopandas datafame method plot)\n",
    "and overplot the location of cusp as a point (using pylab.scatter)\n",
    "Overplot also the census track that contains cusp in red (using the geopandas datafame method plot)"
   ]
  },
  {
   "cell_type": "code",
   "execution_count": 13,
   "metadata": {
    "collapsed": false
   },
   "outputs": [],
   "source": [
    "idx = []\n",
    "for i in range(0, 9682, 10):\n",
    "    idx.append(i)"
   ]
  },
  {
   "cell_type": "code",
   "execution_count": 14,
   "metadata": {
    "collapsed": false
   },
   "outputs": [
    {
     "data": {
      "text/plain": [
       "969"
      ]
     },
     "execution_count": 14,
     "metadata": {},
     "output_type": "execute_result"
    }
   ],
   "source": [
    "# for every 10 polygons of brooklyn\n",
    "ct_latlon10 = ct_latlon.iloc[idx,:]\n",
    "len(ct_latlon10)"
   ]
  },
  {
   "cell_type": "code",
   "execution_count": 15,
   "metadata": {
    "collapsed": false
   },
   "outputs": [
    {
     "data": {
      "text/html": [
       "<div>\n",
       "<table border=\"1\" class=\"dataframe\">\n",
       "  <thead>\n",
       "    <tr style=\"text-align: right;\">\n",
       "      <th></th>\n",
       "      <th>index</th>\n",
       "      <th>BCTCB2010</th>\n",
       "      <th>BoroCode</th>\n",
       "      <th>BoroName</th>\n",
       "      <th>CB2010</th>\n",
       "      <th>CT2010</th>\n",
       "      <th>Shape_Area</th>\n",
       "      <th>Shape_Leng</th>\n",
       "      <th>geometry</th>\n",
       "    </tr>\n",
       "  </thead>\n",
       "  <tbody>\n",
       "    <tr>\n",
       "      <th>0</th>\n",
       "      <td>5037</td>\n",
       "      <td>30002001000</td>\n",
       "      <td>3</td>\n",
       "      <td>Brooklyn</td>\n",
       "      <td>1000</td>\n",
       "      <td>000200</td>\n",
       "      <td>208484.989566</td>\n",
       "      <td>2097.493132</td>\n",
       "      <td>POLYGON ((-74.00659158337982 40.65561273368512...</td>\n",
       "    </tr>\n",
       "    <tr>\n",
       "      <th>10</th>\n",
       "      <td>5047</td>\n",
       "      <td>30035001000</td>\n",
       "      <td>3</td>\n",
       "      <td>Brooklyn</td>\n",
       "      <td>1000</td>\n",
       "      <td>003500</td>\n",
       "      <td>10469.636350</td>\n",
       "      <td>507.804498</td>\n",
       "      <td>POLYGON ((-73.97551988364874 40.68675683612324...</td>\n",
       "    </tr>\n",
       "    <tr>\n",
       "      <th>20</th>\n",
       "      <td>5057</td>\n",
       "      <td>30054001000</td>\n",
       "      <td>3</td>\n",
       "      <td>Brooklyn</td>\n",
       "      <td>1000</td>\n",
       "      <td>005400</td>\n",
       "      <td>189033.189700</td>\n",
       "      <td>1938.321547</td>\n",
       "      <td>POLYGON ((-74.03649125984289 40.61798915520121...</td>\n",
       "    </tr>\n",
       "    <tr>\n",
       "      <th>30</th>\n",
       "      <td>5067</td>\n",
       "      <td>30067001000</td>\n",
       "      <td>3</td>\n",
       "      <td>Brooklyn</td>\n",
       "      <td>1000</td>\n",
       "      <td>006700</td>\n",
       "      <td>198454.446949</td>\n",
       "      <td>1936.158155</td>\n",
       "      <td>POLYGON ((-73.99440802432692 40.68545249602956...</td>\n",
       "    </tr>\n",
       "    <tr>\n",
       "      <th>40</th>\n",
       "      <td>5077</td>\n",
       "      <td>30084001000</td>\n",
       "      <td>3</td>\n",
       "      <td>Brooklyn</td>\n",
       "      <td>1000</td>\n",
       "      <td>008400</td>\n",
       "      <td>208451.540053</td>\n",
       "      <td>2121.627337</td>\n",
       "      <td>POLYGON ((-74.00041318188852 40.65462870194953...</td>\n",
       "    </tr>\n",
       "  </tbody>\n",
       "</table>\n",
       "</div>"
      ],
      "text/plain": [
       "    index    BCTCB2010 BoroCode  BoroName CB2010  CT2010     Shape_Area  \\\n",
       "0    5037  30002001000        3  Brooklyn   1000  000200  208484.989566   \n",
       "10   5047  30035001000        3  Brooklyn   1000  003500   10469.636350   \n",
       "20   5057  30054001000        3  Brooklyn   1000  005400  189033.189700   \n",
       "30   5067  30067001000        3  Brooklyn   1000  006700  198454.446949   \n",
       "40   5077  30084001000        3  Brooklyn   1000  008400  208451.540053   \n",
       "\n",
       "     Shape_Leng                                           geometry  \n",
       "0   2097.493132  POLYGON ((-74.00659158337982 40.65561273368512...  \n",
       "10   507.804498  POLYGON ((-73.97551988364874 40.68675683612324...  \n",
       "20  1938.321547  POLYGON ((-74.03649125984289 40.61798915520121...  \n",
       "30  1936.158155  POLYGON ((-73.99440802432692 40.68545249602956...  \n",
       "40  2121.627337  POLYGON ((-74.00041318188852 40.65462870194953...  "
      ]
     },
     "execution_count": 15,
     "metadata": {},
     "output_type": "execute_result"
    }
   ],
   "source": [
    "ct_latlon10.head()"
   ]
  },
  {
   "cell_type": "code",
   "execution_count": 16,
   "metadata": {
    "collapsed": false
   },
   "outputs": [
    {
     "data": {
      "text/plain": [
       "<matplotlib.legend.Legend at 0x123dbad50>"
      ]
     },
     "execution_count": 16,
     "metadata": {},
     "output_type": "execute_result"
    },
    {
     "data": {
      "image/png": "[encoded data removed]",
      "text/plain": [
       "<matplotlib.figure.Figure at 0x11fa7e650>"
      ]
     },
     "metadata": {},
     "output_type": "display_data"
    }
   ],
   "source": [
    "f, ax = plt.subplots(figsize = (20,10))\n",
    "plt.title(\"Brooklyn\", fontsize = 20)\n",
    "ct_latlon10.plot(column='BCTCB2010', alpha=1, linewidth=0.1, ax=ax, color = \"grey\")\n",
    "\n",
    "ax.scatter(-73.9866, 40.6931, s=200, color = \"y\", alpha=0.7, label=\"CUSP\")   \n",
    "cusppoly.plot(color = \"r\", ax = ax )\n",
    "ax.get_xaxis().set_visible(False)\n",
    "ax.get_yaxis().set_visible(False)\n",
    "plt.legend()"
   ]
  },
  {
   "cell_type": "markdown",
   "metadata": {
    "collapsed": true
   },
   "source": [
    "    Above is the graph that ploted every 10 polygons in Brooklyn, the yellow dot represents the location where CUSP(NYU Center of Urban Science and Progress) is homed. The red area under the yellow dot is the census track polygon that contains CUSP. "
   ]
  },
  {
   "cell_type": "code",
   "execution_count": null,
   "metadata": {
    "collapsed": true
   },
   "outputs": [],
   "source": []
  }
 ],
 "metadata": {
  "anaconda-cloud": {},
  "kernelspec": {
   "display_name": "Python [Root]",
   "language": "python",
   "name": "Python [Root]"
  },
  "language_info": {
   "codemirror_mode": {
    "name": "ipython",
    "version": 2
   },
   "file_extension": ".py",
   "mimetype": "text/x-python",
   "name": "python",
   "nbconvert_exporter": "python",
   "pygments_lexer": "ipython2",
   "version": "2.7.11"
  }
 },
 "nbformat": 4,
 "nbformat_minor": 0
}
